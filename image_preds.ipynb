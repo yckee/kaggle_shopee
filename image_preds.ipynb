{
 "cells": [
  {
   "cell_type": "code",
   "execution_count": 4,
   "id": "proprietary-decade",
   "metadata": {},
   "outputs": [],
   "source": [
    "import pandas as pd \n",
    "import numpy as np\n",
    "import matplotlib.pyplot as plt\n",
    "import cv2\n",
    "import sklearn\n",
    "from sklearn.model_selection import StratifiedKFold, GroupKFold\n",
    "\n",
    "from tqdm.notebook import tqdm"
   ]
  },
  {
   "cell_type": "code",
   "execution_count": 5,
   "metadata": {},
   "outputs": [],
   "source": [
    "path = 'd:/projects/kaggle/shopee/data/'"
   ]
  },
  {
   "cell_type": "code",
   "execution_count": 6,
   "metadata": {},
   "outputs": [],
   "source": [
    "    df = pd.read_csv(path + 'train.csv')\n",
    "    df['image'] = path + 'train_images/' + df['image']\n",
    "    \n",
    "    gkf = GroupKFold(n_splits=5)\n",
    "    df['fold'] = -1\n",
    "    for fold, (train_idx, valid_idx) in enumerate(gkf.split(df, None, df.label_group)):\n",
    "        df.loc[valid_idx, 'fold'] = fold"
   ]
  },
  {
   "cell_type": "code",
   "execution_count": 7,
   "metadata": {},
   "outputs": [],
   "source": [
    "df.to_csv(path + 'folds.csv', index=False)"
   ]
  },
  {
   "cell_type": "code",
   "execution_count": null,
   "metadata": {},
   "outputs": [],
   "source": []
  },
  {
   "cell_type": "code",
   "execution_count": 2,
   "id": "lovely-packet",
   "metadata": {},
   "outputs": [],
   "source": [
    "path = 'data/'\n",
    "train_path = 'data/train_images/'\n",
    "test_path = 'data/test_images/'"
   ]
  },
  {
   "cell_type": "code",
   "execution_count": 4,
   "id": "detailed-difficulty",
   "metadata": {},
   "outputs": [],
   "source": [
    "df = pd.read_csv(path + 'train.csv')\n",
    "df['image'] = train_path + df['image']\n",
    "tmp = df.groupby('label_group').posting_id.unique().to_dict()\n",
    "df['target'] = df.label_group.map(tmp)"
   ]
  },
  {
   "cell_type": "markdown",
   "id": "informed-catalyst",
   "metadata": {},
   "source": [
    "# **Utils**"
   ]
  },
  {
   "cell_type": "code",
   "execution_count": 6,
   "id": "illegal-serial",
   "metadata": {},
   "outputs": [],
   "source": [
    "def getMetric(col):\n",
    "    def f1score(row):\n",
    "        n = len(np.intersect1d(row.target, row[col]))\n",
    "        return 2 * n / (len(row.target) + len(row[col]))\n",
    "    return f1score"
   ]
  },
  {
   "cell_type": "markdown",
   "id": "precious-interface",
   "metadata": {},
   "source": [
    "# **Image**"
   ]
  },
  {
   "cell_type": "markdown",
   "id": "coupled-quantum",
   "metadata": {},
   "source": [
    "**Shape analysis**"
   ]
  },
  {
   "cell_type": "code",
   "execution_count": 8,
   "id": "governing-cloud",
   "metadata": {},
   "outputs": [
    {
     "data": {
      "application/vnd.jupyter.widget-view+json": {
       "model_id": "5c678f3f2d864718a923045219d915d5",
       "version_major": 2,
       "version_minor": 0
      },
      "text/plain": [
       "  0%|          | 0/34250 [00:00<?, ?it/s]"
      ]
     },
     "metadata": {},
     "output_type": "display_data"
    }
   ],
   "source": [
    "shapes = []\n",
    "for i in tqdm(range(df.shape[0])):\n",
    "    img = cv2.imread(df['image'].iloc[i])\n",
    "    shapes.append(img.shape)\n",
    "df['img_shape'] = shapes"
   ]
  },
  {
   "cell_type": "code",
   "execution_count": 13,
   "id": "prepared-saskatchewan",
   "metadata": {},
   "outputs": [
    {
     "data": {
      "text/plain": [
       "label_group\n",
       "258047                           [(640, 640, 3), (450, 450, 3)]\n",
       "297977                           [(500, 500, 3), (764, 764, 3)]\n",
       "645628        [(800, 800, 3), (1000, 1000, 3), (640, 640, 3)...\n",
       "801176                           [(640, 640, 3), (800, 800, 3)]\n",
       "887886                                        [(1024, 1024, 3)]\n",
       "                                    ...                        \n",
       "4292154092                       [(600, 600, 3), (640, 640, 3)]\n",
       "4292520070    [(1000, 1000, 3), (550, 550, 3), (640, 640, 3)...\n",
       "4292939171                       [(640, 640, 3), (700, 700, 3)]\n",
       "4293276364                     [(1024, 1024, 3), (700, 700, 3)]\n",
       "4294197112      [(1024, 1024, 3), (954, 954, 3), (800, 800, 3)]\n",
       "Name: img_shape, Length: 11014, dtype: object"
      ]
     },
     "execution_count": 13,
     "metadata": {},
     "output_type": "execute_result"
    }
   ],
   "source": [
    "df.groupby('label_group').img_shape.unique()"
   ]
  },
  {
   "cell_type": "code",
   "execution_count": 41,
   "id": "invisible-sympathy",
   "metadata": {},
   "outputs": [],
   "source": [
    "ipath = df[df.img_shape == df.img_shape.max()].image"
   ]
  },
  {
   "cell_type": "code",
   "execution_count": 42,
   "id": "critical-encyclopedia",
   "metadata": {},
   "outputs": [],
   "source": [
    "ipath = ipath.to_list()[0]"
   ]
  },
  {
   "cell_type": "code",
   "execution_count": 27,
   "id": "julian-count",
   "metadata": {},
   "outputs": [],
   "source": [
    "from PIL import Image"
   ]
  },
  {
   "cell_type": "code",
   "execution_count": 43,
   "id": "activated-aspect",
   "metadata": {},
   "outputs": [],
   "source": [
    "img = Image.open(ipath).convert('RGB')"
   ]
  },
  {
   "cell_type": "code",
   "execution_count": 44,
   "id": "nearby-bernard",
   "metadata": {},
   "outputs": [
    {
     "data": {
      "text/plain": [
       "<matplotlib.image.AxesImage at 0x1bde8bbba58>"
      ]
     },
     "execution_count": 44,
     "metadata": {},
     "output_type": "execute_result"
    },
    {
     "data": {
      "image/png": "[encoded data removed]",
      "text/plain": [
       "<Figure size 432x288 with 1 Axes>"
      ]
     },
     "metadata": {
      "needs_background": "light"
     },
     "output_type": "display_data"
    }
   ],
   "source": [
    "plt.imshow(img)"
   ]
  },
  {
   "cell_type": "markdown",
   "id": "affected-christian",
   "metadata": {},
   "source": [
    "**Center crop**"
   ]
  },
  {
   "cell_type": "code",
   "execution_count": 3,
   "id": "imposed-strategy",
   "metadata": {},
   "outputs": [],
   "source": [
    "from PIL import Image\n",
    "\n",
    "import torch\n",
    "torch.manual_seed(1010)\n",
    "\n",
    "\n",
    "import torch.nn as nn\n",
    "import torch.nn.functional as F\n",
    "import torch.optim as optim\n",
    "from torch.autograd import Variable\n",
    "from torch.utils.data.dataset import Dataset\n",
    "\n",
    "import torchvision.models as models\n",
    "import torchvision.transforms as transforms\n",
    "import torchvision.datasets as datasets\n",
    "\n",
    "from efficientnet_pytorch import EfficientNet"
   ]
  },
  {
   "cell_type": "code",
   "execution_count": 46,
   "id": "burning-athens",
   "metadata": {},
   "outputs": [],
   "source": [
    "class ShopeeDataset(Dataset):\n",
    "    def __init__(self, img_path, transform):\n",
    "        self.img_path = img_path\n",
    "        self.transform = transform\n",
    "        \n",
    "    def __getitem__(self, idx):\n",
    "        img = Image.open(self.img_path[idx]).convert('RGB')\n",
    "        img = self.transform(img)\n",
    "        return img\n",
    "    \n",
    "    def __len__(self):\n",
    "        return len(self.img_path)"
   ]
  },
  {
   "cell_type": "code",
   "execution_count": 69,
   "id": "favorite-condition",
   "metadata": {},
   "outputs": [],
   "source": [
    "shopee_dataset = ShopeeDataset(\n",
    "    df.image.values,\n",
    "    transforms.Compose([\n",
    "        transforms.Resize((512, 512)),\n",
    "        transforms.CenterCrop((200, 200)),\n",
    "        transforms.ToTensor(),\n",
    "        transforms.Normalize([0.485, 0.456, 0.406], [0.229, 0.224, 0.225])\n",
    "    ])\n",
    ")\n",
    "\n",
    "shopee_loader = torch.utils.data.DataLoader(\n",
    "    shopee_dataset,\n",
    "    batch_size = 12,\n",
    "    shuffle = False,\n",
    "    num_workers = 0\n",
    ")"
   ]
  },
  {
   "cell_type": "code",
   "execution_count": 49,
   "id": "geological-treatment",
   "metadata": {},
   "outputs": [],
   "source": [
    "class ShopeeNet(nn.Module):\n",
    "    def __init__(self):\n",
    "        super(ShopeeNet, self).__init__()\n",
    "\n",
    "        model = EfficientNet.from_pretrained('efficientnet-b0')\n",
    "        model.eval()\n",
    "\n",
    "        self.model = model\n",
    "        \n",
    "    def forward(self, img):\n",
    "        out = self.model.extract_features(img)\n",
    "        out = self.model._avg_pooling(out)\n",
    "        return out"
   ]
  },
  {
   "cell_type": "code",
   "execution_count": 50,
   "id": "boxed-notification",
   "metadata": {},
   "outputs": [
    {
     "name": "stdout",
     "output_type": "stream",
     "text": [
      "Loaded pretrained weights for efficientnet-b0\n"
     ]
    }
   ],
   "source": [
    "shopee_model = ShopeeNet()\n",
    "shopee_model = shopee_model.to('cuda')"
   ]
  },
  {
   "cell_type": "code",
   "execution_count": 70,
   "id": "interior-pilot",
   "metadata": {},
   "outputs": [
    {
     "data": {
      "application/vnd.jupyter.widget-view+json": {
       "model_id": "177556522f104e779ace317b837a6976",
       "version_major": 2,
       "version_minor": 0
      },
      "text/plain": [
       "  0%|          | 0/2855 [00:00<?, ?it/s]"
      ]
     },
     "metadata": {},
     "output_type": "display_data"
    }
   ],
   "source": [
    "embedings = []\n",
    "with torch.no_grad():\n",
    "    for data in tqdm(shopee_loader):\n",
    "        data = data.to('cuda')\n",
    "        emb = shopee_model(data)\n",
    "        emb = emb.reshape(emb.shape[0], emb.shape[1])\n",
    "        emb = emb.data.cpu().numpy()\n",
    "        \n",
    "        embedings.append(emb)"
   ]
  },
  {
   "cell_type": "code",
   "execution_count": 4,
   "id": "small-chassis",
   "metadata": {},
   "outputs": [],
   "source": [
    "from sklearn.preprocessing import normalize\n",
    "from sklearn.neighbors import NearestNeighbors"
   ]
  },
  {
   "cell_type": "code",
   "execution_count": 72,
   "id": "broad-fireplace",
   "metadata": {},
   "outputs": [],
   "source": [
    "embedings = np.vstack(embedings)\n",
    "embedings = normalize(embedings)"
   ]
  },
  {
   "cell_type": "code",
   "execution_count": 73,
   "id": "needed-mentor",
   "metadata": {},
   "outputs": [],
   "source": [
    "distances_cnn = np.matmul(embedings, embedings.T).T"
   ]
  },
  {
   "cell_type": "code",
   "execution_count": 75,
   "id": "sexual-hayes",
   "metadata": {},
   "outputs": [
    {
     "data": {
      "application/vnd.jupyter.widget-view+json": {
       "model_id": "8083176c8a1e438ba2cea13c74dd1d2d",
       "version_major": 2,
       "version_minor": 0
      },
      "text/plain": [
       "  0%|          | 0/34250 [00:00<?, ?it/s]"
      ]
     },
     "metadata": {},
     "output_type": "display_data"
    },
    {
     "name": "stdout",
     "output_type": "stream",
     "text": [
      "Threshold: 0.7  Score : 0.5889891902461634\n"
     ]
    },
    {
     "data": {
      "application/vnd.jupyter.widget-view+json": {
       "model_id": "143f5824168944179aec78ded09bd2da",
       "version_major": 2,
       "version_minor": 0
      },
      "text/plain": [
       "  0%|          | 0/34250 [00:00<?, ?it/s]"
      ]
     },
     "metadata": {},
     "output_type": "display_data"
    },
    {
     "name": "stdout",
     "output_type": "stream",
     "text": [
      "Threshold: 0.72  Score : 0.6157923583337427\n"
     ]
    },
    {
     "data": {
      "application/vnd.jupyter.widget-view+json": {
       "model_id": "9435e55a814642f58633b6c948de891d",
       "version_major": 2,
       "version_minor": 0
      },
      "text/plain": [
       "  0%|          | 0/34250 [00:00<?, ?it/s]"
      ]
     },
     "metadata": {},
     "output_type": "display_data"
    },
    {
     "name": "stdout",
     "output_type": "stream",
     "text": [
      "Threshold: 0.74  Score : 0.6359677904267083\n"
     ]
    },
    {
     "data": {
      "application/vnd.jupyter.widget-view+json": {
       "model_id": "e6d0bbe559ed43d6868cad26381043f8",
       "version_major": 2,
       "version_minor": 0
      },
      "text/plain": [
       "  0%|          | 0/34250 [00:00<?, ?it/s]"
      ]
     },
     "metadata": {},
     "output_type": "display_data"
    },
    {
     "name": "stdout",
     "output_type": "stream",
     "text": [
      "Threshold: 0.76  Score : 0.6487533840684131\n"
     ]
    },
    {
     "data": {
      "application/vnd.jupyter.widget-view+json": {
       "model_id": "27cb16153cdc48c7b0ffc6146e0085a4",
       "version_major": 2,
       "version_minor": 0
      },
      "text/plain": [
       "  0%|          | 0/34250 [00:00<?, ?it/s]"
      ]
     },
     "metadata": {},
     "output_type": "display_data"
    },
    {
     "name": "stdout",
     "output_type": "stream",
     "text": [
      "Threshold: 0.78  Score : 0.655391057661096\n"
     ]
    },
    {
     "data": {
      "application/vnd.jupyter.widget-view+json": {
       "model_id": "89d51ffa637349acadf41b58999e5972",
       "version_major": 2,
       "version_minor": 0
      },
      "text/plain": [
       "  0%|          | 0/34250 [00:00<?, ?it/s]"
      ]
     },
     "metadata": {},
     "output_type": "display_data"
    },
    {
     "name": "stdout",
     "output_type": "stream",
     "text": [
      "Threshold: 0.8  Score : 0.6575095602691384\n"
     ]
    },
    {
     "data": {
      "application/vnd.jupyter.widget-view+json": {
       "model_id": "1ae44c240f654f8eb713eafa45b778f7",
       "version_major": 2,
       "version_minor": 0
      },
      "text/plain": [
       "  0%|          | 0/34250 [00:00<?, ?it/s]"
      ]
     },
     "metadata": {},
     "output_type": "display_data"
    },
    {
     "name": "stdout",
     "output_type": "stream",
     "text": [
      "Threshold: 0.8200000000000001  Score : 0.6567522367268264\n"
     ]
    },
    {
     "data": {
      "application/vnd.jupyter.widget-view+json": {
       "model_id": "8af10c0cde3446c699eaef5bbb0dd1a5",
       "version_major": 2,
       "version_minor": 0
      },
      "text/plain": [
       "  0%|          | 0/34250 [00:00<?, ?it/s]"
      ]
     },
     "metadata": {},
     "output_type": "display_data"
    },
    {
     "ename": "KeyboardInterrupt",
     "evalue": "",
     "output_type": "error",
     "traceback": [
      "\u001b[1;31m---------------------------------------------------------------------------\u001b[0m",
      "\u001b[1;31mKeyboardInterrupt\u001b[0m                         Traceback (most recent call last)",
      "\u001b[1;32m<ipython-input-75-84d3822e1a72>\u001b[0m in \u001b[0;36m<module>\u001b[1;34m\u001b[0m\n\u001b[0;32m      4\u001b[0m     \u001b[0mpreds\u001b[0m \u001b[1;33m=\u001b[0m \u001b[1;33m[\u001b[0m\u001b[1;33m]\u001b[0m\u001b[1;33m\u001b[0m\u001b[1;33m\u001b[0m\u001b[0m\n\u001b[0;32m      5\u001b[0m     \u001b[1;32mfor\u001b[0m \u001b[0mk\u001b[0m \u001b[1;32min\u001b[0m \u001b[0mtqdm\u001b[0m\u001b[1;33m(\u001b[0m\u001b[0mrange\u001b[0m\u001b[1;33m(\u001b[0m\u001b[0mdistances_cnn\u001b[0m\u001b[1;33m.\u001b[0m\u001b[0mshape\u001b[0m\u001b[1;33m[\u001b[0m\u001b[1;36m0\u001b[0m\u001b[1;33m]\u001b[0m\u001b[1;33m)\u001b[0m\u001b[1;33m)\u001b[0m\u001b[1;33m:\u001b[0m\u001b[1;33m\u001b[0m\u001b[1;33m\u001b[0m\u001b[0m\n\u001b[1;32m----> 6\u001b[1;33m         \u001b[0midx\u001b[0m \u001b[1;33m=\u001b[0m \u001b[0mnp\u001b[0m\u001b[1;33m.\u001b[0m\u001b[0mwhere\u001b[0m\u001b[1;33m(\u001b[0m\u001b[0mdistances_cnn\u001b[0m\u001b[1;33m[\u001b[0m\u001b[0mk\u001b[0m\u001b[1;33m]\u001b[0m \u001b[1;33m>\u001b[0m \u001b[0mth\u001b[0m\u001b[1;33m)\u001b[0m\u001b[1;33m[\u001b[0m\u001b[1;36m0\u001b[0m\u001b[1;33m]\u001b[0m\u001b[1;33m\u001b[0m\u001b[1;33m\u001b[0m\u001b[0m\n\u001b[0m\u001b[0;32m      7\u001b[0m         \u001b[0mo\u001b[0m \u001b[1;33m=\u001b[0m \u001b[0mdf\u001b[0m\u001b[1;33m.\u001b[0m\u001b[0miloc\u001b[0m\u001b[1;33m[\u001b[0m\u001b[0midx\u001b[0m\u001b[1;33m]\u001b[0m\u001b[1;33m.\u001b[0m\u001b[0mposting_id\u001b[0m\u001b[1;33m.\u001b[0m\u001b[0mvalues\u001b[0m\u001b[1;33m\u001b[0m\u001b[1;33m\u001b[0m\u001b[0m\n\u001b[0;32m      8\u001b[0m         \u001b[0mpreds\u001b[0m\u001b[1;33m.\u001b[0m\u001b[0mappend\u001b[0m\u001b[1;33m(\u001b[0m\u001b[0mo\u001b[0m\u001b[1;33m)\u001b[0m\u001b[1;33m\u001b[0m\u001b[1;33m\u001b[0m\u001b[0m\n",
      "\u001b[1;31mKeyboardInterrupt\u001b[0m: "
     ]
    }
   ],
   "source": [
    "thresholds = list(np.arange(0.7, 1.2, 0.02))\n",
    "scores = []\n",
    "for th in thresholds:\n",
    "    preds = []\n",
    "    for k in tqdm(range(distances_cnn.shape[0])):\n",
    "        idx = np.where(distances_cnn[k] > th)[0]\n",
    "        o = df.iloc[idx].posting_id.values\n",
    "        preds.append(o)\n",
    "        \n",
    "    df[f\"cnn\"] = preds\n",
    "    df[f\"f1\"] = df.apply(getMetric(f\"cnn\"), axis=1)\n",
    "    score = df[f'f1'].mean()\n",
    "    scores.append(score)\n",
    "    print (f\"Threshold: {th}  Score : {score}\")\n",
    "    \n",
    "print(f\"Best threshold: {thresholds[np.argmax(scores)]} Score: {max(scores)}\")"
   ]
  },
  {
   "cell_type": "code",
   "execution_count": null,
   "id": "lined-animal",
   "metadata": {},
   "outputs": [],
   "source": []
  }
 ],
 "metadata": {
  "kernelspec": {
   "name": "python373jvsc74a57bd05b7a86210e6958833d5e11b2d58836960ae39576ea49ae7551d633240f859cf4",
   "display_name": "Python 3.7.3 64-bit ('base': conda)"
  },
  "language_info": {
   "codemirror_mode": {
    "name": "ipython",
    "version": 3
   },
   "file_extension": ".py",
   "mimetype": "text/x-python",
   "name": "python",
   "nbconvert_exporter": "python",
   "pygments_lexer": "ipython3",
   "version": "3.7.3"
  }
 },
 "nbformat": 4,
 "nbformat_minor": 5
}